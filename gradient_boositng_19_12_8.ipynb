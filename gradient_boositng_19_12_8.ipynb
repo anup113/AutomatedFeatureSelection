{
 "cells": [
  {
   "cell_type": "code",
   "execution_count": 8,
   "metadata": {},
   "outputs": [],
   "source": [
    "import numpy as np\n",
    "import pandas as pd\n",
    "import matplotlib.pyplot as plt\n",
    "from sklearn.preprocessing import StandardScaler\n",
    "from sklearn.model_selection import train_test_split\n",
    "from sklearn.metrics import accuracy_score\n",
    "from sklearn.tree import DecisionTreeClassifier\n",
    "from sklearn.ensemble import RandomForestClassifier, GradientBoostingClassifier\n",
    "from sklearn.feature_selection import SelectFromModel\n",
    "from sklearn.ensemble import ExtraTreesClassifier"
   ]
  },
  {
   "cell_type": "code",
   "execution_count": 54,
   "metadata": {},
   "outputs": [
    {
     "data": {
      "text/plain": [
       "(2600, 501)"
      ]
     },
     "execution_count": 54,
     "metadata": {},
     "output_type": "execute_result"
    }
   ],
   "source": [
    "df = pd.read_csv('medilon.csv')\n",
    "df.head()\n",
    "df.shape"
   ]
  },
  {
   "cell_type": "code",
   "execution_count": 10,
   "metadata": {},
   "outputs": [],
   "source": [
    "X = df.drop(['Class'], axis = 1)\n",
    "y = df['Class']\n",
    "type(X)\n",
    "\n",
    "X_train, X_test, y_train, y_test = train_test_split(X, y, test_size=0.2, random_state=42)"
   ]
  },
  {
   "cell_type": "code",
   "execution_count": 11,
   "metadata": {},
   "outputs": [],
   "source": [
    "scaler= StandardScaler().fit(X)\n",
    "X = scaler.transform(X)\n",
    "X = pd.DataFrame(X)"
   ]
  },
  {
   "cell_type": "code",
   "execution_count": 12,
   "metadata": {},
   "outputs": [
    {
     "name": "stderr",
     "output_type": "stream",
     "text": [
      "C:\\Users\\aanup\\Anaconda3\\lib\\site-packages\\sklearn\\ensemble\\forest.py:245: FutureWarning: The default value of n_estimators will change from 10 in version 0.20 to 100 in 0.22.\n",
      "  \"10 in version 0.20 to 100 in 0.22.\", FutureWarning)\n"
     ]
    },
    {
     "name": "stdout",
     "output_type": "stream",
     "text": [
      "Accuracy:  0.65\n"
     ]
    }
   ],
   "source": [
    "from sklearn import tree\n",
    "\n",
    "clf = RandomForestClassifier(random_state = 0, n_jobs = -1)\n",
    "clf = clf.fit(X_train, y_train)\n",
    "y_pred = clf.predict(X_test)\n",
    "print(\"Accuracy: \", accuracy_score(y_test, y_pred))"
   ]
  },
  {
   "cell_type": "code",
   "execution_count": 17,
   "metadata": {},
   "outputs": [
    {
     "data": {
      "image/png": "[encoded data removed]",
      "text/plain": [
       "<Figure size 1440x720 with 1 Axes>"
      ]
     },
     "metadata": {
      "needs_background": "light"
     },
     "output_type": "display_data"
    }
   ],
   "source": [
    "from sklearn.ensemble import RandomForestClassifier\n",
    "# from sklearn.datasets import load_iris\n",
    "from sklearn.model_selection import train_test_split\n",
    "from sklearn.feature_selection import SelectFromModel\n",
    " \n",
    "X.head()\n",
    "# Create a random forest classifier\n",
    "gbc = GradientBoostingClassifier(n_estimators=100, random_state = 0)\n",
    " \n",
    "feat_labels = X.columns.values\n",
    "# Fitting the classifier\n",
    "gbc.fit(X, y)\n",
    "\n",
    "# for feature in zip(feat_labels, rfc.feature_importances_):\n",
    "#     print(feature) \n",
    "\n",
    "importances = gbc.feature_importances_\n",
    "indices = np.argsort(importances)[::-1]\n",
    "std = np.std([tree[0].feature_importances_ for tree in gbc.estimators_],\n",
    "                 axis=0)\n",
    "zipped = zip(feat_labels, importances)\n",
    "# zipped.sort(key = lambda t: t[1])\n",
    "\n",
    "sorted_list = sorted(zipped, key=lambda x: x[1])\n",
    "gini_values = sorted_list[::-1]\n",
    "\n",
    "a = gini_values[:13]\n",
    "# print(type(sorted_list))\n",
    "# b = []\n",
    "# for i in range(len(gini_values)):\n",
    "#     if a[i][0]\n",
    "top_n = 30\n",
    "indices = indices[0:top_n]\n",
    "plt.figure(figsize = (20,10))\n",
    "plt.title(\"Feature importances top %d\" % top_n)\n",
    "plt.bar(range(top_n), importances[indices],\n",
    "       color=\"r\", yerr=std[indices], align=\"center\")\n",
    "plt.xticks(range(top_n), indices)\n",
    "plt.xlim([-1,top_n])\n",
    "plt.show()"
   ]
  },
  {
   "cell_type": "code",
   "execution_count": null,
   "metadata": {},
   "outputs": [],
   "source": []
  },
  {
   "cell_type": "code",
   "execution_count": 18,
   "metadata": {},
   "outputs": [
    {
     "data": {
      "text/plain": [
       "[338, 475, 48, 153, 318, 378, 28, 105, 442, 128, 281, 451, 4]"
      ]
     },
     "execution_count": 18,
     "metadata": {},
     "output_type": "execute_result"
    }
   ],
   "source": [
    "b = []\n",
    "for i in range(len(a)):\n",
    "    b.append(a[i][0])\n",
    "b"
   ]
  },
  {
   "cell_type": "code",
   "execution_count": 19,
   "metadata": {},
   "outputs": [],
   "source": [
    "Newdf = X.iloc[:, b[:5]]"
   ]
  },
  {
   "cell_type": "code",
   "execution_count": 20,
   "metadata": {},
   "outputs": [
    {
     "data": {
      "text/html": [
       "<div>\n",
       "<style scoped>\n",
       "    .dataframe tbody tr th:only-of-type {\n",
       "        vertical-align: middle;\n",
       "    }\n",
       "\n",
       "    .dataframe tbody tr th {\n",
       "        vertical-align: top;\n",
       "    }\n",
       "\n",
       "    .dataframe thead th {\n",
       "        text-align: right;\n",
       "    }\n",
       "</style>\n",
       "<table border=\"1\" class=\"dataframe\">\n",
       "  <thead>\n",
       "    <tr style=\"text-align: right;\">\n",
       "      <th></th>\n",
       "      <th>338</th>\n",
       "      <th>475</th>\n",
       "      <th>48</th>\n",
       "      <th>153</th>\n",
       "      <th>318</th>\n",
       "    </tr>\n",
       "  </thead>\n",
       "  <tbody>\n",
       "    <tr>\n",
       "      <th>0</th>\n",
       "      <td>1.312752</td>\n",
       "      <td>-1.150611</td>\n",
       "      <td>-1.062896</td>\n",
       "      <td>0.753090</td>\n",
       "      <td>-1.556575</td>\n",
       "    </tr>\n",
       "    <tr>\n",
       "      <th>1</th>\n",
       "      <td>0.276465</td>\n",
       "      <td>0.849855</td>\n",
       "      <td>0.324217</td>\n",
       "      <td>-0.995529</td>\n",
       "      <td>-0.359177</td>\n",
       "    </tr>\n",
       "    <tr>\n",
       "      <th>2</th>\n",
       "      <td>-0.728733</td>\n",
       "      <td>-0.434228</td>\n",
       "      <td>-0.592688</td>\n",
       "      <td>0.855348</td>\n",
       "      <td>0.446345</td>\n",
       "    </tr>\n",
       "    <tr>\n",
       "      <th>3</th>\n",
       "      <td>-1.288328</td>\n",
       "      <td>1.566239</td>\n",
       "      <td>1.029529</td>\n",
       "      <td>0.916703</td>\n",
       "      <td>-0.598657</td>\n",
       "    </tr>\n",
       "    <tr>\n",
       "      <th>4</th>\n",
       "      <td>0.079571</td>\n",
       "      <td>0.998539</td>\n",
       "      <td>-1.321510</td>\n",
       "      <td>-0.545592</td>\n",
       "      <td>-0.511573</td>\n",
       "    </tr>\n",
       "    <tr>\n",
       "      <th>...</th>\n",
       "      <td>...</td>\n",
       "      <td>...</td>\n",
       "      <td>...</td>\n",
       "      <td>...</td>\n",
       "      <td>...</td>\n",
       "    </tr>\n",
       "    <tr>\n",
       "      <th>2595</th>\n",
       "      <td>-0.676919</td>\n",
       "      <td>0.606555</td>\n",
       "      <td>-0.663219</td>\n",
       "      <td>0.926929</td>\n",
       "      <td>0.533428</td>\n",
       "    </tr>\n",
       "    <tr>\n",
       "      <th>2596</th>\n",
       "      <td>-0.252041</td>\n",
       "      <td>0.214572</td>\n",
       "      <td>-1.227468</td>\n",
       "      <td>0.640606</td>\n",
       "      <td>-1.142928</td>\n",
       "    </tr>\n",
       "    <tr>\n",
       "      <th>2597</th>\n",
       "      <td>-0.500750</td>\n",
       "      <td>0.376772</td>\n",
       "      <td>0.488790</td>\n",
       "      <td>-0.218365</td>\n",
       "      <td>1.709055</td>\n",
       "    </tr>\n",
       "    <tr>\n",
       "      <th>2598</th>\n",
       "      <td>-0.842725</td>\n",
       "      <td>0.471389</td>\n",
       "      <td>0.817935</td>\n",
       "      <td>0.671283</td>\n",
       "      <td>-0.968762</td>\n",
       "    </tr>\n",
       "    <tr>\n",
       "      <th>2599</th>\n",
       "      <td>-0.594016</td>\n",
       "      <td>-1.191161</td>\n",
       "      <td>-1.109916</td>\n",
       "      <td>1.284833</td>\n",
       "      <td>0.664053</td>\n",
       "    </tr>\n",
       "  </tbody>\n",
       "</table>\n",
       "<p>2600 rows × 5 columns</p>\n",
       "</div>"
      ],
      "text/plain": [
       "           338       475       48        153       318\n",
       "0     1.312752 -1.150611 -1.062896  0.753090 -1.556575\n",
       "1     0.276465  0.849855  0.324217 -0.995529 -0.359177\n",
       "2    -0.728733 -0.434228 -0.592688  0.855348  0.446345\n",
       "3    -1.288328  1.566239  1.029529  0.916703 -0.598657\n",
       "4     0.079571  0.998539 -1.321510 -0.545592 -0.511573\n",
       "...        ...       ...       ...       ...       ...\n",
       "2595 -0.676919  0.606555 -0.663219  0.926929  0.533428\n",
       "2596 -0.252041  0.214572 -1.227468  0.640606 -1.142928\n",
       "2597 -0.500750  0.376772  0.488790 -0.218365  1.709055\n",
       "2598 -0.842725  0.471389  0.817935  0.671283 -0.968762\n",
       "2599 -0.594016 -1.191161 -1.109916  1.284833  0.664053\n",
       "\n",
       "[2600 rows x 5 columns]"
      ]
     },
     "execution_count": 20,
     "metadata": {},
     "output_type": "execute_result"
    }
   ],
   "source": [
    "Newdf"
   ]
  },
  {
   "cell_type": "code",
   "execution_count": 21,
   "metadata": {},
   "outputs": [],
   "source": [
    "# Rf_train, Rf_test, y_train, y_test = train_test_split(Newdf, y, test_size=0.2, random_state=42)"
   ]
  },
  {
   "cell_type": "code",
   "execution_count": 33,
   "metadata": {},
   "outputs": [
    {
     "name": "stdout",
     "output_type": "stream",
     "text": [
      "(318, 0.7557692307692307)\n",
      "(378, 0.7903846153846154)\n",
      "(28, 0.8134615384615385)\n",
      "(105, 0.7903846153846154)\n",
      "(442, 0.8096153846153846)\n",
      "(128, 0.8307692307692308)\n",
      "(281, 0.8307692307692308)\n",
      "(451, 0.8076923076923077)\n",
      "(4, 0.8288461538461539)\n"
     ]
    }
   ],
   "source": [
    "'''list to hold accuracy, index and those index that need to be removed'''\n",
    "accuracy = []\n",
    "index = []\n",
    "remove_index = []\n",
    "# for i in range(15):\n",
    "#     Newdf = X.iloc[:, b[:4+i]]\n",
    "#     index.append(4+i)\n",
    "#     Rf_train, Rf_test, y_train, y_test = train_test_split(Newdf, y, test_size=0.2, random_state=42)\n",
    "#     rfc = DecisionTreeClassifier(random_state = 0)\n",
    "#     rfc.fit(Rf_train, y_train)\n",
    "#     rfc_predict = rfc.predict(Rf_test)\n",
    "#     accuracy.append(accuracy_score(y_test, rfc_predict))\n",
    "#     print(\"Accuracy: \", accuracy_score(y_test, rfc_predict))\n",
    "\n",
    "'''We decided to choose first 4 columns which have highest gini index and compare wrt them\n",
    "by adding other columns itteratively''' \n",
    "\n",
    "\n",
    "highest_accuracy = 0\n",
    "for i in range(9):\n",
    "    Newdf = X.iloc[:, b[:4+i]]\n",
    "    index.append(b[4+i])\n",
    "    \n",
    "    Rf_train, Rf_test, y_train, y_test = train_test_split(Newdf, y, test_size=0.2, random_state=42)\n",
    "    rfc = DecisionTreeClassifier(random_state = 0)\n",
    "    rfc.fit(Rf_train, y_train)\n",
    "    rfc_predict = rfc.predict(Rf_test)\n",
    "    accuracy.append(accuracy_score(y_test, rfc_predict))\n",
    "    if (accuracy[i] - accuracy[i-1]) < 0 or (accuracy[i] - highest_accuracy) < 0:\n",
    "        if accuracy[i-1] - highest_accuracy >0:\n",
    "            highest_accuracy = accuracy[i-1]\n",
    "        remove_index.append(b[4+i])\n",
    "#     print(\"Accuracy: \", accuracy_score(y_test, rfc_predict))\n",
    "    \n",
    "for indexed in zip(index, accuracy):\n",
    "    print(indexed)\n",
    "# print(index)  \n",
    "# print(remove_index)"
   ]
  },
  {
   "cell_type": "code",
   "execution_count": 34,
   "metadata": {},
   "outputs": [
    {
     "data": {
      "text/plain": [
       "[318, 378, 28, 128, 281, 105, 338, 475, 48, 153]"
      ]
     },
     "execution_count": 34,
     "metadata": {},
     "output_type": "execute_result"
    }
   ],
   "source": [
    "'''Uncomment the following two lines if you are running this code for first time\n",
    "commented out for testing purpose'''\n",
    "dtselected_index = [i for i in index  + remove_index if i not in index or i not in remove_index]\n",
    "dtselected_index.append(remove_index[0])\n",
    "'''These are the columns chosen out of the 20(which had highest gini index)\n",
    "We removed those columns whose addition caused decrease in accuracy since\n",
    "they add no value to the predictive capability of model rather decrease the accuracy'''\n",
    "\n",
    "for i in range(4):\n",
    "    dtselected_index.append(b[i])\n",
    "\n",
    "dtselected_index"
   ]
  },
  {
   "cell_type": "code",
   "execution_count": 35,
   "metadata": {},
   "outputs": [
    {
     "name": "stdout",
     "output_type": "stream",
     "text": [
      "Accuracy:  0.7423076923076923\n"
     ]
    },
    {
     "name": "stderr",
     "output_type": "stream",
     "text": [
      "C:\\Users\\aanup\\Anaconda3\\lib\\site-packages\\pandas\\core\\indexing.py:376: SettingWithCopyWarning: \n",
      "A value is trying to be set on a copy of a slice from a DataFrame.\n",
      "Try using .loc[row_indexer,col_indexer] = value instead\n",
      "\n",
      "See the caveats in the documentation: http://pandas.pydata.org/pandas-docs/stable/user_guide/indexing.html#returning-a-view-versus-a-copy\n",
      "  self.obj[key] = _infer_fill_value(value)\n",
      "C:\\Users\\aanup\\Anaconda3\\lib\\site-packages\\pandas\\core\\indexing.py:576: SettingWithCopyWarning: \n",
      "A value is trying to be set on a copy of a slice from a DataFrame.\n",
      "Try using .loc[row_indexer,col_indexer] = value instead\n",
      "\n",
      "See the caveats in the documentation: http://pandas.pydata.org/pandas-docs/stable/user_guide/indexing.html#returning-a-view-versus-a-copy\n",
      "  self.obj[item_labels[indexer[info_axis]]] = value\n"
     ]
    }
   ],
   "source": [
    "'''This was for testing'''\n",
    "iloceddf  = X.iloc[:, b[:4]]\n",
    "iloceddf.loc[:, b[10]] = X.iloc[:, b[10]]\n",
    "\n",
    "Rf_train, Rf_test, y_train, y_test = train_test_split(iloceddf, y, test_size=0.2, random_state=42)\n",
    "rfc = DecisionTreeClassifier(random_state = 0)\n",
    "rfc.fit(Rf_train, y_train)\n",
    "rfc_predict = rfc.predict(Rf_test)\n",
    "# accuracy.append(accuracy_score(y_test, rfc_predict))\n",
    "print(\"Accuracy: \", accuracy_score(y_test, rfc_predict))"
   ]
  },
  {
   "cell_type": "code",
   "execution_count": 36,
   "metadata": {},
   "outputs": [
    {
     "name": "stdout",
     "output_type": "stream",
     "text": [
      "Accuracy:  0.8096153846153846\n"
     ]
    }
   ],
   "source": [
    "chosendf = X.iloc[:, dtselected_index]\n",
    "\n",
    "Rf_train, Rf_test, y_train, y_test = train_test_split(chosendf, y, test_size=0.2, random_state=42)\n",
    "rfc = DecisionTreeClassifier(random_state = 0)\n",
    "rfc.fit(Rf_train, y_train)\n",
    "rfc_predict = rfc.predict(Rf_test)\n",
    "# accuracy.append(accuracy_score(y_test, rfc_predict))\n",
    "print(\"Accuracy: \", accuracy_score(y_test, rfc_predict))"
   ]
  },
  {
   "cell_type": "code",
   "execution_count": 37,
   "metadata": {},
   "outputs": [
    {
     "data": {
      "text/plain": [
       "\"Ok the accuracy has decreased---------Conclusion\\nso we can't remove any columns that contributed to the highest accuracy\""
      ]
     },
     "execution_count": 37,
     "metadata": {},
     "output_type": "execute_result"
    }
   ],
   "source": [
    "'''Ok the accuracy has decreased---------Conclusion\n",
    "so we can't remove any columns that contributed to the highest accuracy'''"
   ]
  },
  {
   "cell_type": "code",
   "execution_count": 38,
   "metadata": {},
   "outputs": [
    {
     "name": "stdout",
     "output_type": "stream",
     "text": [
      "Accuracy:  0.8307692307692308\n"
     ]
    }
   ],
   "source": [
    "'''We procced to take all those columns i.e 10 columns'''\n",
    "\n",
    "testdf = X.iloc[:, b[:10]]\n",
    "\n",
    "Rf_train, Rf_test, y_train, y_test = train_test_split(testdf, y, test_size=0.2, random_state=42)\n",
    "rfc = DecisionTreeClassifier(random_state = 0)\n",
    "rfc.fit(Rf_train, y_train)\n",
    "rfc_predict = rfc.predict(Rf_test)\n",
    "# accuracy.append(accuracy_score(y_test, rfc_predict))\n",
    "print(\"Accuracy: \", accuracy_score(y_test, rfc_predict))"
   ]
  },
  {
   "cell_type": "code",
   "execution_count": 39,
   "metadata": {},
   "outputs": [
    {
     "name": "stdout",
     "output_type": "stream",
     "text": [
      "0.85\n",
      "(318, 0.8173076923076923)\n",
      "(378, 0.85)\n",
      "(28, 0.85)\n",
      "(105, 0.8461538461538461)\n",
      "(442, 0.875)\n",
      "(128, 0.8807692307692307)\n",
      "(281, 0.8846153846153846)\n"
     ]
    }
   ],
   "source": [
    "'''Lets try with Random Forest Classifier'''\n",
    "\n",
    "'''list to hold accuracy, index and those index that need to be removed'''\n",
    "accuracy = []\n",
    "index = []\n",
    "remove_index = []\n",
    "\n",
    "'''We decided to choose first 4 columns which have highest gini index and compare wrt them\n",
    "by adding other columns itteratively''' \n",
    "\n",
    "\n",
    "highest_accuracy = 0\n",
    "for i in range(7):\n",
    "    Newdf = X.iloc[:, b[:4+i]]\n",
    "    index.append(b[4+i])\n",
    "    \n",
    "    Rf_train, Rf_test, y_train, y_test = train_test_split(Newdf, y, test_size=0.2, random_state=42)\n",
    "    rfc = RandomForestClassifier(n_estimators=100, random_state = 0)\n",
    "    rfc.fit(Rf_train, y_train)\n",
    "    rfc_predict = rfc.predict(Rf_test)\n",
    "    accuracy.append(accuracy_score(y_test, rfc_predict))\n",
    "    if (accuracy[i] - accuracy[i-1]) < 0 or (accuracy[i] - highest_accuracy) <= 0:\n",
    "        if accuracy[i-1] - highest_accuracy >0:\n",
    "            highest_accuracy = accuracy[i-1]\n",
    "            print(highest_accuracy)\n",
    "        remove_index.append(b[4+i])\n",
    "#     if (accuracy[i] - highest_accuracy) >0:\n",
    "#         highest_accuracy = accuracy[i]\n",
    "\n",
    "for indexed in zip(index, accuracy):\n",
    "    print(indexed)"
   ]
  },
  {
   "cell_type": "code",
   "execution_count": 40,
   "metadata": {},
   "outputs": [
    {
     "name": "stdout",
     "output_type": "stream",
     "text": [
      "[318, 378, 28, 105, 442, 128, 281]\n",
      "[105]\n"
     ]
    }
   ],
   "source": [
    "print(index)\n",
    "print(remove_index)\n",
    "\n",
    "indexdf = X.iloc[:, index]\n",
    "\n",
    "Rfindex_train, Rfindex_test, y_train, y_test = train_test_split(indexdf, y, test_size=0.2, random_state=42)"
   ]
  },
  {
   "cell_type": "code",
   "execution_count": 41,
   "metadata": {},
   "outputs": [
    {
     "data": {
      "text/plain": [
       "[318, 378, 28, 442, 128, 281, 105, 338, 475, 48, 153]"
      ]
     },
     "execution_count": 41,
     "metadata": {},
     "output_type": "execute_result"
    }
   ],
   "source": [
    "'''Uncomment the following two lines if you are running this code for first time\n",
    "commented out for testing purpose'''\n",
    "rfselected_index = []\n",
    "rfselected_index = [i for i in index  + remove_index if i not in index or i not in remove_index]\n",
    "rfselected_index.append(remove_index[0])\n",
    "'''These are the columns chosen out of the 20(which had highest gini index)\n",
    "We removed those columns whose addition caused decrease in accuracy since\n",
    "they add no value to the predictive capability of model rather decrease the accuracy'''\n",
    "\n",
    "for i in range(4):\n",
    "    rfselected_index.append(b[i])\n",
    "\n",
    "rfselected_index"
   ]
  },
  {
   "cell_type": "code",
   "execution_count": 42,
   "metadata": {},
   "outputs": [
    {
     "name": "stdout",
     "output_type": "stream",
     "text": [
      "Accuracy:  0.8903846153846153\n"
     ]
    }
   ],
   "source": [
    "chosendf = X.iloc[:, rfselected_index]\n",
    "\n",
    "Rf_train, Rf_test, y_train, y_test = train_test_split(chosendf, y, test_size=0.2, random_state=42)\n",
    "rfc = RandomForestClassifier(n_estimators=100, random_state = 0)\n",
    "rfc.fit(Rf_train, y_train)\n",
    "rfc_predict = rfc.predict(Rf_test)\n",
    "# accuracy.append(accuracy_score(y_test, rfc_predict))\n",
    "print(\"Accuracy: \", accuracy_score(y_test, rfc_predict))"
   ]
  },
  {
   "cell_type": "code",
   "execution_count": 43,
   "metadata": {},
   "outputs": [
    {
     "data": {
      "text/plain": [
       "'We could try out every combination'"
      ]
     },
     "execution_count": 43,
     "metadata": {},
     "output_type": "execute_result"
    }
   ],
   "source": [
    "'''We succesfully reduced our 7 columns from our 20 columns set'''\n",
    "\n",
    "#TODO\n",
    "'''We could try out every combination''' "
   ]
  },
  {
   "cell_type": "code",
   "execution_count": 44,
   "metadata": {},
   "outputs": [
    {
     "data": {
      "text/plain": [
       "SelectFromModel(estimator=RandomForestClassifier(bootstrap=True,\n",
       "                                                 class_weight=None,\n",
       "                                                 criterion='gini',\n",
       "                                                 max_depth=None,\n",
       "                                                 max_features='auto',\n",
       "                                                 max_leaf_nodes=None,\n",
       "                                                 min_impurity_decrease=0.0,\n",
       "                                                 min_impurity_split=None,\n",
       "                                                 min_samples_leaf=1,\n",
       "                                                 min_samples_split=2,\n",
       "                                                 min_weight_fraction_leaf=0.0,\n",
       "                                                 n_estimators=100, n_jobs=None,\n",
       "                                                 oob_score=False,\n",
       "                                                 random_state=0, verbose=0,\n",
       "                                                 warm_start=False),\n",
       "                max_features=None, norm_order=1, prefit=False, threshold=None)"
      ]
     },
     "execution_count": 44,
     "metadata": {},
     "output_type": "execute_result"
    }
   ],
   "source": [
    "sel_ = SelectFromModel(estimator=RandomForestClassifier(n_estimators=100, random_state = 0))\n",
    "sel_.fit(Rfindex_train, y_train)\n"
   ]
  },
  {
   "cell_type": "code",
   "execution_count": 45,
   "metadata": {},
   "outputs": [
    {
     "name": "stdout",
     "output_type": "stream",
     "text": [
      "(318, False)\n",
      "(378, True)\n",
      "(28, False)\n",
      "(105, False)\n",
      "(442, True)\n",
      "(128, False)\n",
      "(281, True)\n"
     ]
    },
    {
     "data": {
      "text/plain": [
       "[378, 442, 281]"
      ]
     },
     "execution_count": 45,
     "metadata": {},
     "output_type": "execute_result"
    }
   ],
   "source": [
    "selected_feat = sel_.get_support()\n",
    "selected_index_ = []\n",
    "for feat in(zip(index, selected_feat)):\n",
    "    print(feat)\n",
    "selected_index_ = [x for x, y in zip(index, selected_feat) if y == True]\n",
    "selected_index_"
   ]
  },
  {
   "cell_type": "code",
   "execution_count": 46,
   "metadata": {},
   "outputs": [
    {
     "name": "stdout",
     "output_type": "stream",
     "text": [
      "Total features: 500\n",
      "Selected features: 3\n"
     ]
    }
   ],
   "source": [
    "selected_feat = Rfindex_train.columns[(sel_.get_support())] #Make a list of with selected features\n",
    "print('Total features: {}'.format((X_train.shape[1])))\n",
    "print('Selected features: {}'.format(len(selected_feat)))\n",
    "# print('Features with coefficients shrunk to 0: {}'.format(\n",
    "#       np.sum(sel_.estimator_.coef_ == 0)))\n"
   ]
  },
  {
   "cell_type": "code",
   "execution_count": 47,
   "metadata": {},
   "outputs": [
    {
     "name": "stdout",
     "output_type": "stream",
     "text": [
      "Accuracy:  0.6788461538461539\n"
     ]
    }
   ],
   "source": [
    "Rf_selected = X.iloc[:, selected_feat]\n",
    "Rf_train, Rf_test, y_train, y_test = train_test_split(Rf_selected, y, test_size=0.2, random_state=42)\n",
    "rfc = RandomForestClassifier(n_estimators=100, random_state = 0)\n",
    "rfc.fit(Rf_train, y_train)\n",
    "rfc_predict = rfc.predict(Rf_test)\n",
    "# accuracy.append(accuracy_score(y_test, rfc_predict))\n",
    "print(\"Accuracy: \", accuracy_score(y_test, rfc_predict))"
   ]
  },
  {
   "cell_type": "code",
   "execution_count": 49,
   "metadata": {},
   "outputs": [
    {
     "name": "stdout",
     "output_type": "stream",
     "text": [
      "0.8615384615384616\n",
      "0.9115384615384615\n",
      "(318, 0.8057692307692308)\n",
      "(378, 0.8615384615384616)\n",
      "(28, 0.8576923076923076)\n",
      "(105, 0.8634615384615385)\n",
      "(442, 0.8961538461538462)\n",
      "(128, 0.9115384615384615)\n",
      "(281, 0.9115384615384615)\n",
      "(451, 0.9019230769230769)\n",
      "(4, 0.8942307692307693)\n"
     ]
    }
   ],
   "source": [
    "'''Lets try with Extra Tree Classifier'''\n",
    "\n",
    "'''list to hold accuracy, index and those index that need to be removed'''\n",
    "accuracy = []\n",
    "index = []\n",
    "remove_index = []\n",
    "\n",
    "'''We decided to choose first 4 columns which have highest gini index and compare wrt them\n",
    "by adding other columns itteratively''' \n",
    "\n",
    "\n",
    "highest_accuracy = 0\n",
    "for i in range(9):\n",
    "    Newdf = X.iloc[:, b[:4+i]]\n",
    "    index.append(b[4+i])\n",
    "    \n",
    "    Rf_train, Rf_test, y_train, y_test = train_test_split(Newdf, y, test_size=0.2, random_state=42)\n",
    "    etc = ExtraTreesClassifier(n_estimators=100, random_state = 0)\n",
    "    etc.fit(Rf_train, y_train)\n",
    "    etc_predict = etc.predict(Rf_test)\n",
    "    accuracy.append(accuracy_score(y_test, etc_predict))\n",
    "    if (accuracy[i] - accuracy[i-1]) < 0 or (accuracy[i] - highest_accuracy) <= 0:\n",
    "        if accuracy[i-1] - highest_accuracy >0:\n",
    "            highest_accuracy = accuracy[i-1]\n",
    "            print(highest_accuracy)\n",
    "        remove_index.append(b[4+i])\n",
    "#     if (accuracy[i] - highest_accuracy) >0:\n",
    "#         highest_accuracy = accuracy[i]\n",
    "\n",
    "for indexed in zip(index, accuracy):\n",
    "    print(indexed)"
   ]
  },
  {
   "cell_type": "code",
   "execution_count": 50,
   "metadata": {},
   "outputs": [
    {
     "name": "stdout",
     "output_type": "stream",
     "text": [
      "[318, 378, 28, 105, 442, 128, 281, 451, 4]\n",
      "[28, 451, 4]\n"
     ]
    }
   ],
   "source": [
    "print(index)\n",
    "print(remove_index)"
   ]
  },
  {
   "cell_type": "code",
   "execution_count": 51,
   "metadata": {},
   "outputs": [
    {
     "data": {
      "text/plain": [
       "[318, 378, 105, 442, 128, 281, 28, 338, 475, 48, 153]"
      ]
     },
     "execution_count": 51,
     "metadata": {},
     "output_type": "execute_result"
    }
   ],
   "source": [
    "'''Uncomment the following two lines if you are running this code for first time\n",
    "commented out for testing purpose'''\n",
    "etselected_index = []\n",
    "etselected_index = [i for i in index  + remove_index if i not in index or i not in remove_index]\n",
    "etselected_index.append(remove_index[0])\n",
    "'''These are the columns chosen out of the 20(which had highest gini index)\n",
    "We removed those columns whose addition caused decrease in accuracy since\n",
    "they add no value to the predictive capability of model rather decrease the accuracy'''\n",
    "\n",
    "for i in range(4):\n",
    "    etselected_index.append(b[i])\n",
    "\n",
    "etselected_index"
   ]
  },
  {
   "cell_type": "code",
   "execution_count": 52,
   "metadata": {},
   "outputs": [
    {
     "name": "stdout",
     "output_type": "stream",
     "text": [
      "Accuracy:  0.9019230769230769\n"
     ]
    }
   ],
   "source": [
    "chosendf = X.iloc[:, etselected_index]\n",
    "\n",
    "et_train, et_test, y_train, y_test = train_test_split(chosendf, y, test_size=0.2, random_state=42)\n",
    "etc = ExtraTreesClassifier(n_estimators=100, random_state = 0)\n",
    "etc.fit(et_train, y_train)\n",
    "etc_predict = etc.predict(et_test)\n",
    "# accuracy.append(accuracy_score(y_test, rfc_predict))\n",
    "print(\"Accuracy: \", accuracy_score(y_test, etc_predict))"
   ]
  },
  {
   "cell_type": "code",
   "execution_count": 53,
   "metadata": {},
   "outputs": [
    {
     "name": "stdout",
     "output_type": "stream",
     "text": [
      "[318, 378, 28, 128, 281, 105, 338, 475, 48, 153]\n",
      "[318, 378, 28, 442, 128, 281, 105, 338, 475, 48, 153]\n",
      "[318, 378, 105, 442, 128, 281, 28, 338, 475, 48, 153]\n",
      "[378, 442, 281]\n"
     ]
    }
   ],
   "source": [
    "print(dtselected_index)\n",
    "print(rfselected_index)\n",
    "print(etselected_index)\n",
    "print(selected_index_)"
   ]
  },
  {
   "cell_type": "code",
   "execution_count": null,
   "metadata": {},
   "outputs": [],
   "source": []
  }
 ],
 "metadata": {
  "kernelspec": {
   "display_name": "Python 3",
   "language": "python",
   "name": "python3"
  },
  "language_info": {
   "codemirror_mode": {
    "name": "ipython",
    "version": 3
   },
   "file_extension": ".py",
   "mimetype": "text/x-python",
   "name": "python",
   "nbconvert_exporter": "python",
   "pygments_lexer": "ipython3",
   "version": "3.7.1"
  }
 },
 "nbformat": 4,
 "nbformat_minor": 2
}
